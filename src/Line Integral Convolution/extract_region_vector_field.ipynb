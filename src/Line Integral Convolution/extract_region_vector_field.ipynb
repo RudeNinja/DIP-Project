{
 "cells": [
  {
   "cell_type": "code",
   "execution_count": 4,
   "metadata": {},
   "outputs": [],
   "source": [
    "import cv2\n",
    "import numpy as np\n",
    "import matplotlib.pyplot as plt"
   ]
  },
  {
   "cell_type": "code",
   "execution_count": 5,
   "metadata": {},
   "outputs": [],
   "source": [
    "def vector_field(grayImage,labelled_img, label_frequency,blur_sigma = 1,blur_size =7,threshold = 0.5):\n",
    "    h = grayImage.shape[0]\n",
    "    w = grayImage.shape[1]\n",
    "\n",
    "    out = cv2.GaussianBlur(grayImage,(blur_size,blur_size),blur_sigma)\n",
    "    outx = cv2.Sobel(out,cv2.CV_64F,1,0,ksize=3)\n",
    "    outy = cv2.Sobel(out,cv2.CV_64F,0,1,ksize=3)\n",
    "    rotate_out = np.concatenate((outx.reshape(h,w,1),np.array(-1*outy).reshape(h,w,1)),axis=2)/255\n",
    "    bool_array = (rotate_out[:,:,1]<0).astype(int)\n",
    "    replicate_bool = np.concatenate((bool_array.reshape(h,w,1),bool_array.reshape(h,w,1)),axis = 2)\n",
    "    \n",
    "    rotate_out = rotate_out*(1 - 2*replicate_bool)\n",
    "    mean_vectors = np.zeros((len(label_frequency),2))\n",
    "    variance_vectors = np.zeros((len(label_frequency),1))\n",
    "    for i in range(h):\n",
    "        for j in range(w):\n",
    "            mean_vectors[labelled_img[i,j],:] += rotate_out[i,j,:] #np.reshape(rotate_out[i,j,:],1,2)\n",
    "    \n",
    "    for i in range(len(label_frequency)):\n",
    "        mean_vectors[i,:] /= label_frequency[i]\n",
    "    \n",
    "    for i in range(h):\n",
    "        for j in range(w):\n",
    "            variance_vectors[labelled_img[i,j]] += np.sum((rotate_out[i,j,:] - mean_vectors[labelled_img[i,j],:])**2)\n",
    "\n",
    "    for i in range(len(label_frequency)):\n",
    "        variance_vectors[i] /= label_frequency[i]\n",
    "    \n",
    "    for i in range(h):\n",
    "        for j in range(w):\n",
    "            if variance_vectors[labelled_img[i,j]] <= threshold:\n",
    "                rotate_out[i,j,:] = mean_vectors[labelled_img[i,j],:]\n",
    "    \n",
    "    sum_vals = (np.sum(rotate_out*2,axis = 2))*0.5 + np.exp(-2)\n",
    "    replicate = np.concatenate((sum_vals.reshape(h,w,1),sum_vals.reshape(h,w,1)),axis = 2)\n",
    "    rotate_out = rotate_out / replicate\n",
    "\n",
    "    return rotate_out"
   ]
  }
 ],
 "metadata": {
  "kernelspec": {
   "display_name": "Python 3.8.10 64-bit",
   "language": "python",
   "name": "python3"
  },
  "language_info": {
   "codemirror_mode": {
    "name": "ipython",
    "version": 3
   },
   "file_extension": ".py",
   "mimetype": "text/x-python",
   "name": "python",
   "nbconvert_exporter": "python",
   "pygments_lexer": "ipython3",
   "version": "3.8.10"
  },
  "orig_nbformat": 4,
  "vscode": {
   "interpreter": {
    "hash": "916dbcbb3f70747c44a77c7bcd40155683ae19c65e1c03b4aa3499c5328201f1"
   }
  }
 },
 "nbformat": 4,
 "nbformat_minor": 2
}
