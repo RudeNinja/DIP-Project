{
 "cells": [
  {
   "cell_type": "code",
   "execution_count": 1,
   "metadata": {},
   "outputs": [],
   "source": [
    "import cv2\n",
    "import numpy as np\n",
    "import matplotlib.pyplot as plt\n",
    "from segment_color import segment_color\n",
    "from edge_extractor import edge_extractor"
   ]
  },
  {
   "cell_type": "code",
   "execution_count": 3,
   "metadata": {},
   "outputs": [],
   "source": [
    "def blend_segment(img,treshold, k, gd_tresh, str_elem_size, gamma, level, sigma_color, amplitude,sigma_g):\n",
    "    gr_img = cv2.cvtColor(img, cv2.COLOR_BGR2GRAY)\n",
    "    edges = edge_extractor(gr_img, treshold, k) # need to use the function from the previous task, edge_extraction\n",
    "    im_color = segment_color(img, gd_tresh, str_elem_size,gamma) # need to use the function from the previous task segment color\n",
    "    img_edge = im_color * (1-edges) + level * edges\n",
    "    color_grad = amplitude * cv2.GaussianBlur(gr_img, sigma_g)\n",
    "    color_grad = color_grad + (0.5 - np.mean(color_grad))\n",
    "    img_gc = cv2.GaussianBlur(img_edge, sigma_color) * color_grad\n",
    "    im_draw = img_gc / np.max(img_gc)"
   ]
  }
 ],
 "metadata": {
  "kernelspec": {
   "display_name": "Python 3.8.10 64-bit",
   "language": "python",
   "name": "python3"
  },
  "language_info": {
   "codemirror_mode": {
    "name": "ipython",
    "version": 3
   },
   "file_extension": ".py",
   "mimetype": "text/x-python",
   "name": "python",
   "nbconvert_exporter": "python",
   "pygments_lexer": "ipython3",
   "version": "3.8.10"
  },
  "orig_nbformat": 4,
  "vscode": {
   "interpreter": {
    "hash": "916dbcbb3f70747c44a77c7bcd40155683ae19c65e1c03b4aa3499c5328201f1"
   }
  }
 },
 "nbformat": 4,
 "nbformat_minor": 2
}
